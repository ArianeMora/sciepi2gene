{
 "cells": [
  {
   "cell_type": "markdown",
   "metadata": {
    "collapsed": true
   },
   "source": [
    "## Example annotating mouse and human peaks to genes\n",
    "\n",
    "This notebook provides key examples to get started:\n",
    "    \n",
    "    1) Annotating peaks from bed files to genes (mouse)\n",
    "    3) Annotating DNA methylation data to genes (human)"
   ]
  },
  {
   "cell_type": "code",
   "execution_count": 1,
   "metadata": {},
   "outputs": [],
   "source": [
    "import pandas as pd\n",
    "from scie2g import Bed, Csv\n",
    "from sciutil import SciUtil\n",
    "import igv\n",
    "\n",
    "data_dir = '../tests/data/'\n",
    "bed_file = f'{data_dir}test_H3K27ac.bed'\n",
    "mm10_annot_file = f'{data_dir}mmusculus_gene_ensembl-GRCm38.p6.csv'\n",
    "u = SciUtil()\n"
   ]
  },
  {
   "cell_type": "markdown",
   "metadata": {},
   "source": [
    "## Inspect files\n",
    "\n",
    "Just to give you an idea of what the files as input are we print out the head of the *annotation* file and the *bed* file.\n"
   ]
  },
  {
   "cell_type": "code",
   "execution_count": 2,
   "metadata": {},
   "outputs": [
    {
     "name": "stdout",
     "output_type": "stream",
     "text": [
      "\u001b[94m--------------------------------------------------------------------------------\u001b[0m\n",
      "\u001b[94m                             MM10 Bed file header:\t                             \u001b[0m\n",
      "\u001b[94m--------------------------------------------------------------------------------\u001b[0m\n",
      "    chr1   13139105   13374083  Peak_147937  12  .  2.20467  3.65974  2.03542  \\\n",
      "0   chr4  118442415  118457513  Peak_126956  13  .  2.16107  4.38555  2.71094   \n",
      "1  chr15  102326116  102331873   Peak_43115  20  .  3.35950  9.21174  7.28157   \n",
      "2   chrX   73716597   73738534   Peak_76892  15  .  2.65320  6.01850  4.22238   \n",
      "\n",
      "   131     Ncoa2  \n",
      "0    120     Mpl  \n",
      "1  147     Pfdn5  \n",
      "2  122     Abcd1  \n",
      "\u001b[94m--------------------------------------------------------------------------------\u001b[0m\n",
      "\u001b[94m                         MM10 annotation file header:\t                          \u001b[0m\n",
      "\u001b[94m--------------------------------------------------------------------------------\u001b[0m\n",
      "          ensembl_gene_id external_gene_name chromosome_name  start_position  \\\n",
      "0      ENSMUSG00000102693      4933401J01Rik               1         3073253   \n",
      "1      ENSMUSG00000064842            Gm26206               1         3102016   \n",
      "2      ENSMUSG00000102851            Gm18956               1         3252757   \n",
      "3      ENSMUSG00000103377            Gm37180               1         3365731   \n",
      "4      ENSMUSG00000104017            Gm37363               1         3375556   \n",
      "...                   ...                ...             ...             ...   \n",
      "56300  ENSMUSG00000095134           Mid1-ps1               Y        90753057   \n",
      "56301  ENSMUSG00000095366            Gm21860               Y        90752427   \n",
      "56302  ENSMUSG00000096768            Gm47283               Y        90784738   \n",
      "56303  ENSMUSG00000099871            Gm21742               Y        90837413   \n",
      "56304  ENSMUSG00000096850            Gm21748               Y        90838869   \n",
      "\n",
      "       end_position  strand  \n",
      "0           3074322       1  \n",
      "1           3102125       1  \n",
      "2           3253236       1  \n",
      "3           3368549      -1  \n",
      "4           3377788      -1  \n",
      "...             ...     ...  \n",
      "56300      90763485       1  \n",
      "56301      90755467      -1  \n",
      "56302      90816465       1  \n",
      "56303      90844040       1  \n",
      "56304      90839177      -1  \n",
      "\n",
      "[56305 rows x 6 columns]\n"
     ]
    }
   ],
   "source": [
    "u.dp(['MM10 Bed file header:'])\n",
    "print(pd.read_csv(bed_file, '\\t'))\n",
    "\n",
    "u.dp(['MM10 annotation file header:'])\n",
    "print(pd.read_csv(mm10_annot_file))\n"
   ]
  },
  {
   "cell_type": "markdown",
   "metadata": {},
   "source": [
    "## Run bed file annotation\n",
    "\n",
    "Now we can annotate the bed file to the genes in the annotation file (using the default parameters)."
   ]
  },
  {
   "cell_type": "code",
   "execution_count": 3,
   "metadata": {},
   "outputs": [
    {
     "name": "stderr",
     "output_type": "stream",
     "text": [
      "4it [00:00, 57.50it/s]"
     ]
    },
    {
     "name": "stdout",
     "output_type": "stream",
     "text": [
      "\u001b[93m--------------------------------------------------------------------------------\u001b[0m\n",
      "\u001b[93mWarning: Your input file used different chr conventions to ensembl: chr1 vs 1 \n",
      "We have added chr prefix to the ensembl chrs.\n",
      "file: ../tests/data/test_H3K27ac.bed\t\u001b[0m\n",
      "\u001b[93m--------------------------------------------------------------------------------\u001b[0m\n"
     ]
    },
    {
     "name": "stderr",
     "output_type": "stream",
     "text": [
      "\n"
     ]
    }
   ],
   "source": [
    "bed = Bed(bed_file)\n",
    "# Add the gene annot\n",
    "bed.set_annotation_from_file(mm10_annot_file)\n",
    "# Now we can run the assign values\n",
    "bed.assign_locations_to_genes()\n",
    "bed.save_loc_to_csv(f'test_bed_h3k27ac_output.csv')\n"
   ]
  },
  {
   "cell_type": "markdown",
   "metadata": {},
   "source": [
    "## Inspect the output of the annotation\n",
    "\n",
    "Look at the previous annotation to check the annotations are correct.  \n",
    "\n",
    "You'll notice that many of the peaks have been annotated to multiple genes, in particular, since the annotation file has ensembl IDs, we get multiple assignments to a single gene name."
   ]
  },
  {
   "cell_type": "code",
   "execution_count": 4,
   "metadata": {},
   "outputs": [
    {
     "name": "stdout",
     "output_type": "stream",
     "text": [
      "\u001b[94m--------------------------------------------------------------------------------\u001b[0m\n",
      "\u001b[94m                         Parsed bed and annotated it:\t                          \u001b[0m\n",
      "\u001b[94m--------------------------------------------------------------------------------\u001b[0m\n",
      "    peak_idx  gene_idx    chr      start        end  peak_value        8  \\\n",
      "0          0       157   chr1   13139105   13374083     2.20467  2.03542   \n",
      "1          0       158   chr1   13139105   13374083     2.20467  2.03542   \n",
      "2          0       159   chr1   13139105   13374083     2.20467  2.03542   \n",
      "3          0       160   chr1   13139105   13374083     2.20467  2.03542   \n",
      "4          0       161   chr1   13139105   13374083     2.20467  2.03542   \n",
      "5          0       162   chr1   13139105   13374083     2.20467  2.03542   \n",
      "6          0       163   chr1   13139105   13374083     2.20467  2.03542   \n",
      "7          0       164   chr1   13139105   13374083     2.20467  2.03542   \n",
      "8          0       165   chr1   13139105   13374083     2.20467  2.03542   \n",
      "9          0       166   chr1   13139105   13374083     2.20467  2.03542   \n",
      "10         1     33541   chr4  118442415  118457513     2.16107  2.71094   \n",
      "11         1     33542   chr4  118442415  118457513     2.16107  2.71094   \n",
      "12         2     18356  chr15  102326116  102331873     3.35950  7.28157   \n",
      "13         2     18357  chr15  102326116  102331873     3.35950  7.28157   \n",
      "14         3     53203   chrX   73716597   73738534     2.65320  4.22238   \n",
      "15         3     53204   chrX   73716597   73738534     2.65320  4.22238   \n",
      "\n",
      "                  9     ensembl_gene_id external_gene_name chromosome_name  \\\n",
      "0   131     Ncoa2\\n  ENSMUSG00000103506            Gm38376            chr1   \n",
      "1   131     Ncoa2\\n  ENSMUSG00000103495            Gm37409            chr1   \n",
      "2   131     Ncoa2\\n  ENSMUSG00000099183            Gm27881            chr1   \n",
      "3   131     Ncoa2\\n  ENSMUSG00000102639            Gm38223            chr1   \n",
      "4   131     Ncoa2\\n  ENSMUSG00000104170            Gm37702            chr1   \n",
      "5   131     Ncoa2\\n  ENSMUSG00000087782            Gm23169            chr1   \n",
      "6   131     Ncoa2\\n  ENSMUSG00000103085            Gm38120            chr1   \n",
      "7   131     Ncoa2\\n  ENSMUSG00000102664            Gm38380            chr1   \n",
      "8   131     Ncoa2\\n  ENSMUSG00000005886              Ncoa2            chr1   \n",
      "9   131     Ncoa2\\n  ENSMUSG00000101476            Gm29570            chr1   \n",
      "10    120     Mpl\\n  ENSMUSG00000081921            Gm12858            chr4   \n",
      "11    120     Mpl\\n  ENSMUSG00000006389                Mpl            chr4   \n",
      "12  147     Pfdn5\\n  ENSMUSG00000001289              Pfdn5           chr15   \n",
      "13  147     Pfdn5\\n  ENSMUSG00000001285               Myg1           chr15   \n",
      "14  122     Abcd1\\n  ENSMUSG00000002015             Bcap31            chrX   \n",
      "15  122     Abcd1\\n  ENSMUSG00000031378              Abcd1            chrX   \n",
      "\n",
      "    start_position  end_position  strand  \n",
      "0         13177462      13179714      -1  \n",
      "1         13234809      13236434      -1  \n",
      "2         13262198      13262279       1  \n",
      "3         13289812      13290506      -1  \n",
      "4         13297036      13298907      -1  \n",
      "5         13334498      13334609      -1  \n",
      "6         13343563      13348204      -1  \n",
      "7         13354483      13356730      -1  \n",
      "8         13139105      13374083      -1  \n",
      "9         13376070      13388413       1  \n",
      "10       118441013     118441220      -1  \n",
      "11       118442415     118457513      -1  \n",
      "12       102326116     102331873       1  \n",
      "13       102331709     102338139       1  \n",
      "14        73686178      73716175      -1  \n",
      "15        73716597      73738534       1  \n"
     ]
    }
   ],
   "source": [
    "u.dp(['Parsed bed and annotated it:'])\n",
    "print(pd.read_csv('test_bed_h3k27ac_output.csv'))\n"
   ]
  },
  {
   "cell_type": "markdown",
   "metadata": {},
   "source": [
    "## Override the default parameters\n",
    "\n",
    "Here we just show how some of the parameters can be overrided.\n",
    "\n",
    "Here rather than using the peak signal, we choose the peak score (maybe we want it for visualisation purposes). We also add the \"Peak\" (feature 9, to our output file). We do this by changing: `peak_value=4` (see the features below for the narrow peak format).  \n",
    "\n",
    "In order to just add extra information, we do this by adding to the `hdridx` and set it to be:\n",
    "`hdridx='\"0\",\"1\",\"2\",\"3\",\"4\",\"8\",\"9\"'`. Basically this means: in the output you'll have: `chrom, chromStart,chromEnd,name,score,signalValue,qvalue`.  \n",
    "\n",
    "Other things we change are the `buffer_before_tss` (the buffer before the TSS in which we want to annotate the peak to the gene) and `buffer_after_tss` (i.e. the amount downstream of the gene end - soz this is poorly named).  \n",
    "\n",
    "\n",
    "We take the information from the genome browser FAQ: https://genome.ucsc.edu/FAQ/FAQformat.html#format12\n",
    "\n",
    "\n",
    "0. chrom - Name of the chromosome (or contig, scaffold, etc.).\n",
    "1. chromStart - The starting position of the feature in the chromosome or scaffold. The first base in a chromosome is numbered 0.\n",
    "2. chromEnd - The ending position of the feature in the chromosome or scaffold. The chromEnd base is not included in the display of the feature. For example, the first 100 bases of a chromosome are defined as chromStart=0, chromEnd=100, and span the bases numbered 0-99.\n",
    "3. name - Name given to a region (preferably unique). Use \".\" if no name is assigned.\n",
    "4. score - Indicates how dark the peak will be displayed in the browser (0-1000). If all scores were \"'0\"' when the data were submitted to the DCC, the DCC assigned scores 1-1000 based on signal value. Ideally the average signalValue per base spread is between 100-1000.\n",
    "5. strand - +/- to denote strand or orientation (whenever applicable). Use \".\" if no orientation is assigned.\n",
    "6. signalValue - Measurement of overall (usually, average) enrichment for the region.\n",
    "7. pValue - Measurement of statistical significance (-log10). Use -1 if no pValue is assigned.\n",
    "8. qValue - Measurement of statistical significance using false discovery rate (-log10). Use -1 if no qValue is assigned.\n",
    "9. peak - Point-source called for this peak; 0-based offset from chromStart. Use -1 if no point-source called.\n",
    "\n"
   ]
  },
  {
   "cell_type": "code",
   "execution_count": 5,
   "metadata": {},
   "outputs": [
    {
     "name": "stderr",
     "output_type": "stream",
     "text": [
      "4it [00:00, 64.94it/s]"
     ]
    },
    {
     "name": "stdout",
     "output_type": "stream",
     "text": [
      "\u001b[93m--------------------------------------------------------------------------------\u001b[0m\n",
      "\u001b[93mWarning: Your input file used different chr conventions to ensembl: chr1 vs 1 \n",
      "We have added chr prefix to the ensembl chrs.\n",
      "file: ../tests/data/test_H3K27ac.bed\t\u001b[0m\n",
      "\u001b[93m--------------------------------------------------------------------------------\u001b[0m\n"
     ]
    },
    {
     "name": "stderr",
     "output_type": "stream",
     "text": [
      "\n"
     ]
    }
   ],
   "source": [
    "bed = Bed(bed_file, overlap_method='overlaps', buffer_after_tss=1000,\n",
    "                  buffer_before_tss=1000, buffer_gene_overlap=500,\n",
    "                  gene_start=3, gene_end=4, gene_chr=2,\n",
    "                  gene_direction=5, gene_name=0,\n",
    "                  chr_idx=0, start_idx=1,\n",
    "                  end_idx=2, peak_value=6, header_extra='\"7\"')\n",
    "# Add the gene annot\n",
    "bed.set_annotation_from_file(mm10_annot_file)\n",
    "# Now we can run the assign values\n",
    "bed.assign_locations_to_genes()\n",
    "bed.save_loc_to_csv(f'bed_h3k27ac_output_overlaps.csv')\n"
   ]
  },
  {
   "cell_type": "markdown",
   "metadata": {},
   "source": [
    "## Example with CSV file\n",
    "\n",
    "With the CSV file, we allow for the header to be used (since unlike the bed files we read the whole file into memory). The good thing about the beds is that we only read one line at a time, so it will be able to handle much larger files."
   ]
  },
  {
   "cell_type": "code",
   "execution_count": 6,
   "metadata": {},
   "outputs": [
    {
     "name": "stdout",
     "output_type": "stream",
     "text": [
      "\u001b[94m--------------------------------------------------------------------------------\u001b[0m\n",
      "\u001b[94m                            Human CSV file header:\t                             \u001b[0m\n",
      "\u001b[94m--------------------------------------------------------------------------------\u001b[0m\n",
      "   Unnamed: 0  chr     start       end strand  pvalue  qvalue  meth.diff  \\\n",
      "0           1    7  27070640  27072751      *  0.0005   0.005       -1.0   \n",
      "1           2    7  27082673  27109403      *  0.0005   0.005       -1.0   \n",
      "2           3    7  27095203  27096872      *  0.0005   0.005       -1.0   \n",
      "3           4    7  27095403  27096072      *  0.0005   0.005       -1.0   \n",
      "4           5    7  27095403  27095404      *  0.0005   0.005       -1.0   \n",
      "\n",
      "                              description                 genes  \n",
      "0                           Overlaps None                   NaN  \n",
      "1  Overlaps Hoxa1 and HotairM1 in TSS ALL  HOTAIRM1,HOXA1,HOXA2  \n",
      "2    Overlaps Hoxa1 and HotairM1 in TSS A        HOTAIRM1,HOXA1  \n",
      "3    Overlaps Hoxa1 and HotairM1 in TSS B        HOTAIRM1,HOXA1  \n",
      "4    Overlaps Hoxa1 and HotairM1 in TSS C        HOTAIRM1,HOXA1  \n",
      "\u001b[94m--------------------------------------------------------------------------------\u001b[0m\n",
      "\u001b[94m                         Human annotation file header:\t                         \u001b[0m\n",
      "\u001b[94m--------------------------------------------------------------------------------\u001b[0m\n",
      "       ensembl_gene_id external_gene_name chromosome_name  start_position  \\\n",
      "0      ENSG00000223972            DDX11L1               1           11869   \n",
      "1      ENSG00000278267          MIR6859-1               1           17369   \n",
      "2      ENSG00000243485        MIR1302-2HG               1           29554   \n",
      "3      ENSG00000227232             WASH7P               1           14404   \n",
      "4      ENSG00000284332          MIR1302-2               1           30366   \n",
      "...                ...                ...             ...             ...   \n",
      "67125  ENSG00000224240            CYCSP49               Y        26549425   \n",
      "67126  ENSG00000227629         SLC25A15P1               Y        26586642   \n",
      "67127  ENSG00000231514             CCNQP2               Y        26626520   \n",
      "67128  ENSG00000237917            PARP4P1               Y        26594851   \n",
      "67129  ENSG00000235857            CTBP2P1               Y        56855244   \n",
      "\n",
      "       end_position  strand  \n",
      "0             14409       1  \n",
      "1             17436      -1  \n",
      "2             31109       1  \n",
      "3             29570      -1  \n",
      "4             30503       1  \n",
      "...             ...     ...  \n",
      "67125      26549743       1  \n",
      "67126      26591601      -1  \n",
      "67127      26627159      -1  \n",
      "67128      26634652      -1  \n",
      "67129      56855488       1  \n",
      "\n",
      "[67130 rows x 6 columns]\n"
     ]
    }
   ],
   "source": [
    "csv_file = f'{data_dir}test_methyl_overlaps.csv'\n",
    "hg38_annot_file = f'{data_dir}hsapiens_gene_ensembl-GRCh38.p13.csv'\n",
    "\n",
    "# Print out the files again like we did above\n",
    "u.dp(['Human CSV file header:'])\n",
    "print(pd.read_csv(csv_file))\n",
    "\n",
    "u.dp(['Human annotation file header:'])\n",
    "print(pd.read_csv(hg38_annot_file))\n"
   ]
  },
  {
   "cell_type": "markdown",
   "metadata": {},
   "source": [
    "## Annotate genes to the CSV file \n",
    "\n",
    "Here we show an example of annotating to a csv file. We also show how we can convert a CSV to a bed file both before and after the annotation. This allows us to be able to view the results of the CSV file.\n",
    "\n",
    "1. Convert the CSV input file to a bed so we can view it in IGV\n",
    "2. Annotate the features to genes\n",
    "3. Save csv to a bed file"
   ]
  },
  {
   "cell_type": "code",
   "execution_count": 7,
   "metadata": {},
   "outputs": [
    {
     "name": "stderr",
     "output_type": "stream",
     "text": [
      "100%|██████████| 5/5 [00:00<00:00, 252.78it/s]"
     ]
    },
    {
     "name": "stdout",
     "output_type": "stream",
     "text": [
      "\u001b[93m--------------------------------------------------------------------------------\u001b[0m\n",
      "\u001b[93mWarning: Your input file used different chr conventions to ensembl: chr7 vs 1 \n",
      "We have added chr prefix to the ensembl chrs.\n",
      "file: ../tests/data/test_methyl_overlaps.csv\t\u001b[0m\n",
      "\u001b[93m--------------------------------------------------------------------------------\u001b[0m\n"
     ]
    },
    {
     "name": "stderr",
     "output_type": "stream",
     "text": [
      "\n"
     ]
    }
   ],
   "source": [
    "csv_file = f'{data_dir}test_methyl_overlaps.csv'\n",
    "\n",
    "f = Csv(csv_file, chr_str='chr', start='start', end='end', value='meth.diff', \n",
    "        header_extra=['pvalue', 'qvalue', 'description', 'genes'])\n",
    "\n",
    "# Convert to bed: \n",
    "\"\"\"\n",
    "output filename = test_methyl_overlaps_input\n",
    "track name = MethylOutputOverlaps_input\n",
    "value = qvalue\n",
    "name of peak = genes (a column in the csv file)\n",
    "\"\"\"\n",
    "f.convert_to_bed(pd.read_csv(csv_file), f'test_methyl_overlaps_input.bed', 'Methyl_input', \n",
    "                 'qvalue', 'genes')\n",
    "f.set_annotation_from_file(hg38_annot_file)\n",
    "\n",
    "# Now we can run the assign values\n",
    "f.assign_locations_to_genes()\n",
    "\n",
    "# Save the output to a csv file\n",
    "f.save_loc_to_csv(f'test_methyl_overlaps_output.csv')\n",
    "\n",
    "# We now save the annotated peaks to another bed file so we can inspect the differences.\n",
    "f.convert_to_bed(f.loc_df, f'test_methyl_overlaps_output.bed', 'MethylOutputOverlaps', 'qvalue', 'external_gene_name')"
   ]
  },
  {
   "cell_type": "markdown",
   "metadata": {},
   "source": [
    "## Print out the bed results and the \n",
    "\n",
    "If you want to use this section you need to install IGV's browser capabilities in your virtual environment.\n",
    "\n",
    "You do this the following way (as per documentation at: https://github.com/igvteam/igv-jupyter\n",
    "```\n",
    "# To install to configuration in your home directory\n",
    "jupyter serverextension enable --py igv\n",
    "jupyter nbextension install --py igv\n",
    "jupyter nbextension enable --py igv\n",
    "\n",
    "\n",
    "# If using a virtual environment\n",
    "jupyter serverextension enable --py igv --sys-prefix\n",
    "jupyter nbextension install --py igv --sys-prefix\n",
    "jupyter nbextension enable --py igv --sys-prefix\n",
    "\n",
    "```\n",
    "\n",
    "Note if you haven't done the above you will get no visualisation!"
   ]
  },
  {
   "cell_type": "code",
   "execution_count": 9,
   "metadata": {},
   "outputs": [
    {
     "data": {
      "text/html": [
       "<div id=\"igv_5773980\"></div>"
      ],
      "text/plain": [
       "<IPython.core.display.HTML object>"
      ]
     },
     "metadata": {},
     "output_type": "display_data"
    },
    {
     "data": {
      "text/plain": [
       "'Awaiting SVG - try again in a few seconds'"
      ]
     },
     "execution_count": 9,
     "metadata": {},
     "output_type": "execute_result"
    }
   ],
   "source": [
    "import igv\n",
    "\n",
    "b = igv.Browser({\"genome\": \"hg38\"})\n",
    "b.show()\n",
    "\n",
    "# Load input track (in purple)\n",
    "b.load_track(\n",
    "    {\n",
    "        \"name\": \"Local Bed\",\n",
    "        \"url\": \"files/test_methyl_overlaps_input.bed\",\n",
    "        \"format\": \"bed\",\n",
    "        \"type\": \"annotation\",\n",
    "        \"sourceType\": \"file\",\n",
    "        \"indexed\": False,\n",
    "        \"displayMode\": \"EXPANDED\",\n",
    "        \"color\": \"#8258A1\"\n",
    "    })\n",
    "\n",
    "# Load output track (in green)\n",
    "b.load_track(\n",
    "    {\n",
    "        \"name\": \"Local Bed\",\n",
    "        \"url\": \"files/test_methyl_overlaps_output.bed\",\n",
    "        \"format\": \"bed\",\n",
    "        \"type\": \"annotation\",\n",
    "        \"sourceType\": \"file\",\n",
    "        \"indexed\": False,\n",
    "        \"displayMode\": \"EXPANDED\",\n",
    "        \"color\": \"#8DD9B3\"\n",
    "    })\n",
    "\n",
    "b.search('HOXA2')\n",
    "b.get_svg()\n",
    "\n",
    "b.display_svg()"
   ]
  }
 ],
 "metadata": {
  "kernelspec": {
   "display_name": "Python 3",
   "language": "python",
   "name": "python3"
  },
  "language_info": {
   "codemirror_mode": {
    "name": "ipython",
    "version": 3
   },
   "file_extension": ".py",
   "mimetype": "text/x-python",
   "name": "python",
   "nbconvert_exporter": "python",
   "pygments_lexer": "ipython3",
   "version": "3.8.2"
  }
 },
 "nbformat": 4,
 "nbformat_minor": 1
}
